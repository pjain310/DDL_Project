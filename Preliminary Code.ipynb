{
 "cells": [
  {
   "cell_type": "code",
   "execution_count": 2,
   "metadata": {},
   "outputs": [],
   "source": [
    "#Placeholder\n",
    "import pandas as pd\n",
    "import numpy as np"
   ]
  },
  {
   "cell_type": "code",
   "execution_count": 15,
   "metadata": {},
   "outputs": [],
   "source": [
    "#Load train data \n",
    "df = pd.read_csv(\"understanding_cloud_organization/train.csv\")\n",
    "\n"
   ]
  },
  {
   "cell_type": "code",
   "execution_count": 27,
   "metadata": {},
   "outputs": [],
   "source": [
    "#Extract file names and labels \n",
    "names = df['Image_Label'].str.split(\"_\",expand=True)\n",
    "df['Image'] = names[0]\n",
    "test = df['EncodedPixels'] \n",
    "df['Label_Present'] = df['EncodedPixels'].map(lambda x: 0 if x is np.nan else 1)"
   ]
  },
  {
   "cell_type": "code",
   "execution_count": null,
   "metadata": {},
   "outputs": [],
   "source": [
    "#Descriptive stats about data \n",
    "#pie chart of each type\n",
    "#Histogram number of labels per image \n",
    "#Dist of train/val \n"
   ]
  },
  {
   "cell_type": "code",
   "execution_count": 28,
   "metadata": {},
   "outputs": [
    {
     "name": "stdout",
     "output_type": "stream",
     "text": [
      "          Image_Label                                      EncodedPixels  \\\n",
      "0    0011165.jpg_Fish  264918 937 266318 937 267718 937 269118 937 27...   \n",
      "1  0011165.jpg_Flower  1355565 1002 1356965 1002 1358365 1002 1359765...   \n",
      "2  0011165.jpg_Gravel                                                NaN   \n",
      "3   0011165.jpg_Sugar                                                NaN   \n",
      "4    002be4f.jpg_Fish  233813 878 235213 878 236613 878 238010 881 23...   \n",
      "\n",
      "         Image  Label_Present  \n",
      "0  0011165.jpg              1  \n",
      "1  0011165.jpg              1  \n",
      "2  0011165.jpg              0  \n",
      "3  0011165.jpg              0  \n",
      "4  002be4f.jpg              1  \n"
     ]
    }
   ],
   "source": [
    "#Split into train and test/val\n",
    "\n",
    "#Extract mask \n",
    "\n",
    "#Train model on mask\n",
    "\n",
    "#Mask extraction for test data \n",
    "\n",
    "#Test Classification "
   ]
  },
  {
   "cell_type": "code",
   "execution_count": 17,
   "metadata": {},
   "outputs": [],
   "source": [
    "#Define function to convert RLE to mask (Source: https://www.kaggle.com/ekhtiar/eda-find-me-in-the-clouds)\n",
    "def rle_to_mask(rle_string, width, height):\n",
    "    '''\n",
    "    convert RLE(run length encoding) string to numpy array\n",
    "\n",
    "    Parameters: \n",
    "    rle_string (str): string of rle encoded mask\n",
    "    height (int): height of the mask\n",
    "    width (int): width of the mask\n",
    "\n",
    "    Returns: \n",
    "    numpy.array: numpy array of the mask\n",
    "    '''\n",
    "    \n",
    "    rows, cols = height, width\n",
    "    \n",
    "    if rle_string == -1:\n",
    "        return np.zeros((height, width))\n",
    "    else:\n",
    "        rle_numbers = [int(num_string) for num_string in rle_string.split(' ')]\n",
    "        rle_pairs = np.array(rle_numbers).reshape(-1,2)\n",
    "        img = np.zeros(rows*cols, dtype=np.uint8)\n",
    "        for index, length in rle_pairs:\n",
    "            index -= 1\n",
    "            img[index:index+length] = 255\n",
    "        img = img.reshape(cols,rows)\n",
    "        img = img.T\n",
    "        return img"
   ]
  },
  {
   "cell_type": "code",
   "execution_count": null,
   "metadata": {},
   "outputs": [],
   "source": [
    "#Define function to visualise samples\n",
    "def show_samples(samples):\n",
    "    for sample in samples:\n",
    "        fig, axes = plt.subplots(1, 1, figsize=(15, 10))\n",
    "        img_path = os.path.join(DATASET_DIR, 'train_images', sample[0])\n",
    "        img = cv2.imread(img_path, 1)\n",
    "\n",
    "        # Get annotations\n",
    "        labels = df[df['Image_Label'].str.contains(sample[0])]['EncodedPixels']\n",
    "\n",
    "        patches = []\n",
    "        for idx, rle in enumerate(labels.values):\n",
    "            if rle is not np.nan:\n",
    "                mask = rle2mask(rle)\n",
    "                contours, _ = cv2.findContours(mask, cv2.RETR_TREE, cv2.CHAIN_APPROX_SIMPLE)\n",
    "                for contour in contours:\n",
    "                    poly_patch = Polygon(contour.reshape(-1, 2), closed=True, linewidth=2, edgecolor=COLORS[idx], fill=False)\n",
    "                    patches.append(poly_patch)\n",
    "        p = PatchCollection(patches, match_original=True, cmap=matplotlib.cm.jet)\n",
    "\n",
    "        axes.imshow(img/255)\n",
    "        axes.set_title('{} - ({})'.format(sample[0], ', '.join(sample[1].astype(np.str))))\n",
    "        axes.add_collection(p)\n",
    "        plt.show()"
   ]
  },
  {
   "cell_type": "code",
   "execution_count": 18,
   "metadata": {},
   "outputs": [],
   "source": [
    "mask = rle_to_mask(train[\"EncodedPixels\"][1],2100,1400)"
   ]
  },
  {
   "cell_type": "code",
   "execution_count": 19,
   "metadata": {},
   "outputs": [
    {
     "name": "stdout",
     "output_type": "stream",
     "text": [
      "[[0 0 0 ... 0 0 0]\n",
      " [0 0 0 ... 0 0 0]\n",
      " [0 0 0 ... 0 0 0]\n",
      " ...\n",
      " [0 0 0 ... 0 0 0]\n",
      " [0 0 0 ... 0 0 0]\n",
      " [0 0 0 ... 0 0 0]]\n"
     ]
    }
   ],
   "source": [
    "print(mask)"
   ]
  }
 ],
 "metadata": {
  "kernelspec": {
   "display_name": "Python 3",
   "language": "python",
   "name": "python3"
  },
  "language_info": {
   "codemirror_mode": {
    "name": "ipython",
    "version": 3
   },
   "file_extension": ".py",
   "mimetype": "text/x-python",
   "name": "python",
   "nbconvert_exporter": "python",
   "pygments_lexer": "ipython3",
   "version": "3.7.3"
  }
 },
 "nbformat": 4,
 "nbformat_minor": 2
}
